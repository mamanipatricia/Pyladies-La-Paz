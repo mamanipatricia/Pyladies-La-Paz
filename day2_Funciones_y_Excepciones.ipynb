{
  "nbformat": 4,
  "nbformat_minor": 0,
  "metadata": {
    "colab": {
      "name": "day2-Funciones-y-Excepciones.ipynb",
      "provenance": [],
      "collapsed_sections": [],
      "include_colab_link": true
    },
    "kernelspec": {
      "name": "python3",
      "display_name": "Python 3"
    }
  },
  "cells": [
    {
      "cell_type": "markdown",
      "metadata": {
        "id": "view-in-github",
        "colab_type": "text"
      },
      "source": [
        "<a href=\"https://colab.research.google.com/github/mamanipatricia/Pyladies-La-Paz/blob/master/day2_Funciones_y_Excepciones.ipynb\" target=\"_parent\"><img src=\"https://colab.research.google.com/assets/colab-badge.svg\" alt=\"Open In Colab\"/></a>"
      ]
    },
    {
      "cell_type": "markdown",
      "metadata": {
        "id": "pENm0qO9kMdy",
        "colab_type": "text"
      },
      "source": [
        "## PEP 8\n",
        "\n",
        "PEP 8 existe para mejorar la legibilidad del código Python.\n",
        "\n",
        "---\n",
        "### Variables\n",
        "Definir en *minusculas*, separar con guiones bajos (`_`) para mayor legibilidad.\n",
        "\n",
        "```python\n",
        "age =  25\n",
        "name = \"John\"\n",
        "last_name = \"Doe\"\n",
        "```\n",
        "### Funciones\n",
        "Definir en *minusculas*, separar con guiones bajos (`_`) para mayor legibilidad.\n",
        "\n",
        "```python\n",
        "def multiply(a, b):\n",
        "  ...\n",
        "\n",
        "def get_users():\n",
        "  ...\n",
        "\n",
        "def set_active_user():\n",
        "  ...\n",
        "```\n",
        "### Constante\n",
        "Definir en *mayusculas*, separar con guiones bajos (`_`) para mayor legibilidad.\n",
        "\n",
        "```python\n",
        "PI = 3.14\n",
        "GRAVITY = 9.82\n",
        "```\n",
        "\n",
        "NOTA:\n",
        "\n",
        "- No usar simbolos especiales como: `!`, `@`, `#`, `$`, `%` ...\n",
        "- No definir una variable con un digito al inicio: `1user`, `1_user` ...\n",
        "\n",
        "---\n",
        "\n"
      ]
    },
    {
      "cell_type": "markdown",
      "metadata": {
        "id": "vPBWr8LukRgn",
        "colab_type": "text"
      },
      "source": [
        "## Funciones y Excepciones"
      ]
    },
    {
      "cell_type": "code",
      "metadata": {
        "id": "IZdALstx2c9w",
        "colab_type": "code",
        "colab": {
          "base_uri": "https://localhost:8080/",
          "height": 34
        },
        "outputId": "39eaca9f-78b3-4470-c058-67ce082df349"
      },
      "source": [
        "# Definiendo una funcion\n",
        "\n",
        "# Sintaxis\n",
        "def sumar():\n",
        "    pass\n",
        "\n",
        "def sumar():\n",
        "    print(5 + 10)\n",
        "\n",
        "sumar()"
      ],
      "execution_count": null,
      "outputs": [
        {
          "output_type": "stream",
          "text": [
            "15\n"
          ],
          "name": "stdout"
        }
      ]
    },
    {
      "cell_type": "code",
      "metadata": {
        "id": "AjMyosBh2dA3",
        "colab_type": "code",
        "colab": {
          "base_uri": "https://localhost:8080/",
          "height": 34
        },
        "outputId": "d2b5cb45-d01d-4a37-b583-7c16c192fe13"
      },
      "source": [
        "# Parámetros\n",
        "\n",
        "def sumar(number1, number2):\n",
        "    print(number1 + number2)\n",
        "\n",
        "sumar(20, 15)"
      ],
      "execution_count": 109,
      "outputs": [
        {
          "output_type": "stream",
          "text": [
            "35\n"
          ],
          "name": "stdout"
        }
      ]
    },
    {
      "cell_type": "code",
      "metadata": {
        "id": "jqtLVPQDbGqs",
        "colab_type": "code",
        "colab": {
          "base_uri": "https://localhost:8080/",
          "height": 34
        },
        "outputId": "37003088-9b35-4fe3-fb43-7186c1ac980e"
      },
      "source": [
        "20 + 15"
      ],
      "execution_count": 111,
      "outputs": [
        {
          "output_type": "execute_result",
          "data": {
            "text/plain": [
              "35"
            ]
          },
          "metadata": {
            "tags": []
          },
          "execution_count": 111
        }
      ]
    },
    {
      "cell_type": "code",
      "metadata": {
        "id": "ys-HlNxMAO_S",
        "colab_type": "code",
        "colab": {
          "base_uri": "https://localhost:8080/",
          "height": 34
        },
        "outputId": "e6520195-164b-4839-844f-f4b60eb25d90"
      },
      "source": [
        "# Funciones con parametros por defecto\n",
        "\n",
        "def sumar(number1, number2=20):\n",
        "  \"\"\"Esta funcion suma dos numeros\"\"\"\n",
        "  print(number1 + number2)\n",
        "\n",
        "# sumar(10, 15)\n",
        "sumar(10)"
      ],
      "execution_count": 114,
      "outputs": [
        {
          "output_type": "stream",
          "text": [
            "30\n"
          ],
          "name": "stdout"
        }
      ]
    },
    {
      "cell_type": "code",
      "metadata": {
        "id": "IsqWMCyW9kOA",
        "colab_type": "code",
        "colab": {
          "base_uri": "https://localhost:8080/",
          "height": 34
        },
        "outputId": "d0f46222-78d9-4e50-dbfb-397936682692"
      },
      "source": [
        "# Orden de los parámetros\n",
        "def sumar(number1, number2=20):\n",
        "    # print(number1)\n",
        "    # print(number2)\n",
        "    print(number1 - number2)\n",
        "\n",
        "# sumar(number1=10, number2=5)\n",
        "sumar(number2=10, number1=5)\n",
        "\n",
        "# sumar(number1=10)"
      ],
      "execution_count": 117,
      "outputs": [
        {
          "output_type": "stream",
          "text": [
            "-5\n"
          ],
          "name": "stdout"
        }
      ]
    },
    {
      "cell_type": "code",
      "metadata": {
        "id": "0wm-lZwd9kWA",
        "colab_type": "code",
        "colab": {
          "base_uri": "https://localhost:8080/",
          "height": 34
        },
        "outputId": "4daf3376-09bb-4969-916d-3e5799f8b38a"
      },
      "source": [
        "# Definiendo funciones que retornen un valor\n",
        "\n",
        "def es_par(number):\n",
        "  # if number%2 == 0:\n",
        "  #   return True\n",
        "  # return False\n",
        "  return number%2 == 0\n",
        "\n",
        "es_par(9)"
      ],
      "execution_count": 118,
      "outputs": [
        {
          "output_type": "execute_result",
          "data": {
            "text/plain": [
              "False"
            ]
          },
          "metadata": {
            "tags": []
          },
          "execution_count": 118
        }
      ]
    },
    {
      "cell_type": "code",
      "metadata": {
        "id": "ERu_rBOv9kUD",
        "colab_type": "code",
        "colab": {
          "base_uri": "https://localhost:8080/",
          "height": 34
        },
        "outputId": "6d09333e-a133-41a6-bd1c-134ead1a0056"
      },
      "source": [
        "# Retornando multiples valores  de una funcion\n",
        "\n",
        "def adder_substractor(number1, number2):\n",
        "  return (number1 + number2, number1 - number2)\n",
        "\n",
        "adder_substractor(10, 20)"
      ],
      "execution_count": 119,
      "outputs": [
        {
          "output_type": "execute_result",
          "data": {
            "text/plain": [
              "(30, -10)"
            ]
          },
          "metadata": {
            "tags": []
          },
          "execution_count": 119
        }
      ]
    },
    {
      "cell_type": "code",
      "metadata": {
        "id": "G3hj2lzEGePR",
        "colab_type": "code",
        "colab": {
          "base_uri": "https://localhost:8080/",
          "height": 34
        },
        "outputId": "4f31e8c3-3d43-4acb-94be-54145a84a833"
      },
      "source": [
        "# Suma de los numeros pares entre un rango (10 - 50)\n",
        "suma_pares = 0\n",
        "for n in range(10, 50):\n",
        "  if n%2 == 0:\n",
        "    suma_pares += n\n",
        "\n",
        "# print(suma_pares)\n",
        "\n",
        "suma_pares = 0\n",
        "for n in range(10, 50):\n",
        "  if es_par(n):\n",
        "    suma_pares += n\n",
        "\n",
        "print(suma_pares)\n"
      ],
      "execution_count": 121,
      "outputs": [
        {
          "output_type": "stream",
          "text": [
            "580\n"
          ],
          "name": "stdout"
        }
      ]
    },
    {
      "cell_type": "code",
      "metadata": {
        "id": "ooSog-OufRha",
        "colab_type": "code",
        "colab": {
          "base_uri": "https://localhost:8080/",
          "height": 102
        },
        "outputId": "b82b6ad2-8ad5-4e04-ae37-617768c693df"
      },
      "source": [
        "for n in range(10, 50, 8):\n",
        "  print(n)"
      ],
      "execution_count": 123,
      "outputs": [
        {
          "output_type": "stream",
          "text": [
            "10\n",
            "18\n",
            "26\n",
            "34\n",
            "42\n"
          ],
          "name": "stdout"
        }
      ]
    },
    {
      "cell_type": "markdown",
      "metadata": {
        "id": "tUOS0v-tSfjS",
        "colab_type": "text"
      },
      "source": [
        "# Funciones y Excepciones"
      ]
    },
    {
      "cell_type": "code",
      "metadata": {
        "id": "ciddKfTTGeSf",
        "colab_type": "code",
        "colab": {
          "base_uri": "https://localhost:8080/",
          "height": 51
        },
        "outputId": "129572c6-07fb-4289-b2fa-a248f4f4dbba"
      },
      "source": [
        "# try, except\n",
        "\n",
        "while True:\n",
        "  try:\n",
        "    x = int(input(\"Ingresa un numero: \"))\n",
        "    break\n",
        "  except ValueError:\n",
        "    print(\"El valor ingresado no es un numero, Intenta de nuevo...\")\n",
        "\n",
        "print(\"El valor ingresado es: \", x)"
      ],
      "execution_count": 131,
      "outputs": [
        {
          "output_type": "stream",
          "text": [
            "Ingresa un numero: 56\n",
            "El valor ingresado es:  56\n"
          ],
          "name": "stdout"
        }
      ]
    },
    {
      "cell_type": "code",
      "metadata": {
        "id": "-3HSJ39gNAXi",
        "colab_type": "code",
        "colab": {
          "base_uri": "https://localhost:8080/",
          "height": 34
        },
        "outputId": "ea8356c6-9969-4e46-c912-1b95f417af95"
      },
      "source": [
        "# Division entre cero\n",
        "\n",
        "try:\n",
        "  x = 1/0\n",
        "except ZeroDivisionError as err:\n",
        "  print('Ocurrio un error de ', err)"
      ],
      "execution_count": 132,
      "outputs": [
        {
          "output_type": "stream",
          "text": [
            "Ocurrio un error de  division by zero\n"
          ],
          "name": "stdout"
        }
      ]
    },
    {
      "cell_type": "code",
      "metadata": {
        "id": "izuX08ATOFm2",
        "colab_type": "code",
        "colab": {
          "base_uri": "https://localhost:8080/",
          "height": 34
        },
        "outputId": "58f66a88-34ea-40f4-8fd1-e70a439fda6d"
      },
      "source": [
        "# Errores de variables no definidas\n",
        "a = 10\n",
        "try:\n",
        "  result = a + numero\n",
        "except NameError as err:\n",
        "  print('Ocurrio un error de ', err)"
      ],
      "execution_count": 133,
      "outputs": [
        {
          "output_type": "stream",
          "text": [
            "Ocurrio un error de  name 'numero' is not defined\n"
          ],
          "name": "stdout"
        }
      ]
    },
    {
      "cell_type": "code",
      "metadata": {
        "id": "v64XYYnaPa3A",
        "colab_type": "code",
        "colab": {
          "base_uri": "https://localhost:8080/",
          "height": 34
        },
        "outputId": "70846e72-91b6-42f2-933d-a92bc18aec43"
      },
      "source": [
        "# Multiples Errores\n",
        "\n",
        "a = 10\n",
        "try:\n",
        "  result = a / 0 \n",
        "  \n",
        "except (NameError, ZeroDivisionError, TypeError) as err:\n",
        "  print('Ocurrio un error de ', err)"
      ],
      "execution_count": 138,
      "outputs": [
        {
          "output_type": "stream",
          "text": [
            "Ocurrio un error de  division by zero\n"
          ],
          "name": "stdout"
        }
      ]
    },
    {
      "cell_type": "code",
      "metadata": {
        "id": "iDNrdj94Pa-E",
        "colab_type": "code",
        "colab": {
          "base_uri": "https://localhost:8080/",
          "height": 34
        },
        "outputId": "99c6f245-bf11-4578-9514-7d1249235d7a"
      },
      "source": [
        "# Exception Error\n",
        "a = 10\n",
        "try:\n",
        "  result = a + numeros\n",
        "  \n",
        "except Exception as err:\n",
        "  print('Ocurrio un error de ', err)"
      ],
      "execution_count": 142,
      "outputs": [
        {
          "output_type": "stream",
          "text": [
            "Ocurrio un error de  name 'numeros' is not defined\n"
          ],
          "name": "stdout"
        }
      ]
    },
    {
      "cell_type": "code",
      "metadata": {
        "id": "imJk2yCxSLQZ",
        "colab_type": "code",
        "colab": {
          "base_uri": "https://localhost:8080/",
          "height": 51
        },
        "outputId": "51a6599c-b342-4d0a-eea7-fd49825f52ba"
      },
      "source": [
        "# Finally, siemmpre corre este bloque\n",
        "\n",
        "a = 10\n",
        "try:\n",
        "  result = a + \"hola\"\n",
        "\n",
        "except Exception as err:\n",
        "  print('Ocurrio un error de ', err)\n",
        "\n",
        "finally:\n",
        "  print(\"Verificando los tipos de errores en Python\")"
      ],
      "execution_count": 143,
      "outputs": [
        {
          "output_type": "stream",
          "text": [
            "Ocurrio un error de  unsupported operand type(s) for +: 'int' and 'str'\n",
            "Verificando los tipos de errores en Python\n"
          ],
          "name": "stdout"
        }
      ]
    },
    {
      "cell_type": "code",
      "metadata": {
        "id": "ye2rZ820SLNp",
        "colab_type": "code",
        "colab": {}
      },
      "source": [
        ""
      ],
      "execution_count": null,
      "outputs": []
    },
    {
      "cell_type": "markdown",
      "metadata": {
        "id": "bMFQFi35AQAH",
        "colab_type": "text"
      },
      "source": [
        "### Mas de PEP8 y recomendaciones\n",
        "\n",
        "### Funciones\n",
        "```python\n",
        "# No recomendado\n",
        "def db(x):\n",
        "    return x * 2\n",
        "```\n",
        "```python\n",
        "# Recomendado\n",
        "def multiply_by_two(x):\n",
        "    return x * 2\n",
        "```\n",
        "- **Siempre tratar de usar los nombres más concisos pero descriptivos posibles.**\n",
        "\n",
        "### Líneas en blanco\n",
        "\n",
        "```python\n",
        "def average():\n",
        "    ...\n",
        "\n",
        "def get_total():\n",
        "  ...\n",
        "\n",
        "```\n",
        "### Longitud máxima de línea y ruptura de línea\n",
        "Limitarse a 79 caracteres en las lineas. \n",
        "```python\n",
        "def function(arg_one, arg_two,\n",
        "             arg_three, arg_four):\n",
        "    return arg_one\n",
        "```\n",
        "Salto de línea o ruptura ante un operador binario:\n",
        "\n",
        "```python\n",
        "total = (first_variable\n",
        "         + second_variable\n",
        "         - third_variable)\n",
        "```\n",
        "### Sangría\n",
        "Usar 4 espacios consecutivos para indicar sangría o presionar la tecla `tab` o tabulacion.\n",
        "```python\n",
        "x = 2\n",
        "if x > 6:\n",
        "    print('x es mayor que 6')\n",
        "```\n",
        "\n",
        "### Declaraciones que abarcan varias líneas\n",
        "Ejemplo: Código anidado dentro de la instrucción\n",
        "\n",
        "```python\n",
        "if (x > 3 and\n",
        "    x < 10):\n",
        "    print(x)\n",
        "```\n",
        "PEP 8 proporciona dos alternativas\n",
        "\n",
        "1. Agregar un comentario después de la condición final.\n",
        "```python\n",
        "if (x > 3 and\n",
        "    x < 10):\n",
        "    # Both conditions satisfied\n",
        "    print(x)\n",
        "```\n",
        "\n",
        "2. Agregar sangría adicional en la continuación de línea.\n",
        "```python\n",
        "x = 5\n",
        "if (x > 3 and\n",
        "        x < 10):\n",
        "    print(x)\n",
        "```\n",
        "\n",
        "### Dónde colocar la llave de cierre?\n",
        "\n",
        "1. Alinear la llave de cierre con el primer carácter.\n",
        "\n",
        "```python\n",
        "list_of_numbers = [\n",
        "    1, 2, 3,\n",
        "    4, 5, 6,\n",
        "    7, 8, 9\n",
        "    ]\n",
        "```\n",
        "2. Alinear la llave de cierre con el primer carácter de la línea que comienza la construcción.\n",
        "\n",
        "```python\n",
        "list_of_numbers = [\n",
        "    1, 2, 3,\n",
        "    4, 5, 6,\n",
        "    7, 8, 9\n",
        "]\n",
        "```\n",
        "\n",
        "### Comentarios\n",
        "Debe usar los comentarios para documentar el código y entenderlo facilmente.\n",
        "\n",
        "- Comentarios en bloques `Block Comments`\n",
        "\n",
        "```python\n",
        "for i in range(0, 10):\n",
        "    # Recorre 10 veces e imprime el valor de i seguido por una nueva linea\n",
        "    print(i, '\\n')\n",
        "```\n",
        "\n",
        "- Comentarios en línea `Inline Comments`\n",
        "\n",
        "```python\n",
        "x = 5  # Este es un inline comment\n",
        "```\n",
        "- Cadenas de documentación `Documentation Strings - docstring`\n",
        "\n",
        "son cadenas entre ( `\"\"\"` ) o  ( `'''` ) que aparecen en la primera línea de cualquier función, clase, método o módulo.\n",
        "\n",
        "```python\n",
        "def my_function(arg_1, arg_2, ...):\n",
        "    \"\"\"Usar la formula de v = d/t\"\"\"\n",
        "    ...\n",
        "```\n",
        "\n",
        "### Espacio en blanco en expresiones y declaraciones\n",
        "Si no hay suficiente espacio en blanco es dificil de leer, ya que todo está agrupado. \n",
        "\n",
        "```python\n",
        "if x>5 and x%2==0:\n",
        "    print('x es mayor que 5 y divisible por 2!')\n",
        "```\n",
        "- Usar la misma cantidad de espacio en blanco a cada lado del operador.\n",
        "- Se debe rodear la mayoría de los operadores con espacios en blanco\n",
        "\n",
        "### Cuándo evitar agregar espacios en blanco\n",
        "\n",
        "-  Espacios en blanco finales\n",
        "\n",
        "```python\n",
        "# Recomendado\n",
        "my_list = [1, 2, 3]\n",
        "\n",
        "# No recomendado\n",
        "my_list = [ 1, 2, 3, ]\n",
        "```\n",
        "- Antes de una coma, punto y coma o dos puntos\n",
        "\n",
        "```python\n",
        "x = 5\n",
        "y = 6\n",
        "# Recomendado\n",
        "print(x, y)\n",
        "\n",
        "# No recomendado\n",
        "print(x , y)\n",
        "```\n",
        "- Alinear operadores de asignación\n",
        "\n",
        "```python\n",
        "# Recomendado\n",
        "var1 = 5\n",
        "var2 = 6\n",
        "some_long_var = 7\n",
        "\n",
        "# No recomendado\n",
        "var1          = 5\n",
        "var2          = 6\n",
        "some_long_var = 7\n",
        "```\n",
        "\n",
        "### No comparar valores booleanos con True o False utilizando el operador de equivalencia `==`\n",
        "\n",
        "```python\n",
        "# No recomendado\n",
        "my_bool = 6 > 5\n",
        "if my_bool == True:\n",
        "    return '6 es mayor que 5'\n",
        "\n",
        "# Recomendado\n",
        "if my_bool:\n",
        "    return '6 es mayor que 5'\n",
        "```\n",
        "\n",
        "### Verificar si una lista está vacía\n",
        "\n",
        "```python\n",
        "# No recomendado\n",
        "my_list = []\n",
        "if not len(my_list):\n",
        "    print('La lista esta vacia!')\n",
        "\n",
        "# Recomendado\n",
        "my_list = []\n",
        "if not my_list:\n",
        "    print('La lista esta vacia!')\n",
        "```\n",
        "\n",
        "### Verificar si una variable tiene un valor definido\n",
        "\n",
        "```python\n",
        "# No recomendado\n",
        "if not x is None:\n",
        "    return 'x existe!'\n",
        "\n",
        "# Recomendado\n",
        "if x is not None:\n",
        "    return 'x existe!'\n",
        "```\n",
        "\n",
        "Bibliografia\n",
        "\n",
        "https://www.python.org/dev/peps/pep-0008/\n",
        "\n",
        "https://www.datacamp.com/community/tutorials/pep8-tutorial-python-code\n",
        "\n",
        "https://realpython.com/python-pep8/\n",
        "\n",
        "\n"
      ]
    },
    {
      "cell_type": "code",
      "metadata": {
        "id": "QtrqYOtxFLFJ",
        "colab_type": "code",
        "colab": {
          "base_uri": "https://localhost:8080/",
          "height": 153
        },
        "outputId": "e9d30627-0c91-4bf4-d5f9-efbe93ead25b"
      },
      "source": [
        "# Otros ejercicios\n",
        "\n",
        "# verificar si un numero es primo o no\n",
        "def es_primo(number):\n",
        "    if number > 1:\n",
        "        primo = True\n",
        "        for i in range(2, (number)):\n",
        "        # for i in range(2, (number//2 + 1)):\n",
        "            if number%i == 0:\n",
        "                primo = False\n",
        "                break\n",
        "    else:\n",
        "        primo = False\n",
        "    return primo\n",
        "\n",
        "print(\"1 es primo: \", es_primo(1))\n",
        "print(\"2 es primo: \", es_primo(2))\n",
        "print(\"3 es primo: \", es_primo(3))\n",
        "print(\"4 es primo: \", es_primo(4))\n",
        "print(\"5 es primo: \", es_primo(5))\n",
        "print(\"7 es primo: \", es_primo(7))\n",
        "print(\"6 es primo: \", es_primo(6))\n",
        "print(\"9 es primo: \", es_primo(9))"
      ],
      "execution_count": null,
      "outputs": [
        {
          "output_type": "stream",
          "text": [
            "1 es primo:  False\n",
            "2 es primo:  True\n",
            "3 es primo:  True\n",
            "4 es primo:  False\n",
            "5 es primo:  True\n",
            "7 es primo:  True\n",
            "6 es primo:  False\n",
            "9 es primo:  False\n"
          ],
          "name": "stdout"
        }
      ]
    },
    {
      "cell_type": "code",
      "metadata": {
        "id": "QtKVUotqVJIV",
        "colab_type": "code",
        "colab": {
          "base_uri": "https://localhost:8080/",
          "height": 34
        },
        "outputId": "31935870-ccba-490e-9b30-cc98d9ca80f5"
      },
      "source": [
        "a = 3\n",
        "a *= 2\n",
        "# a = a ** 2\n",
        "print(a)"
      ],
      "execution_count": 149,
      "outputs": [
        {
          "output_type": "stream",
          "text": [
            "6\n"
          ],
          "name": "stdout"
        }
      ]
    },
    {
      "cell_type": "code",
      "metadata": {
        "id": "qpaKTl3utzGb",
        "colab_type": "code",
        "colab": {}
      },
      "source": [
        ""
      ],
      "execution_count": null,
      "outputs": []
    }
  ]
}