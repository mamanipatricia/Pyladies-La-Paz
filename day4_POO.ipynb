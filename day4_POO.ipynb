{
  "nbformat": 4,
  "nbformat_minor": 0,
  "metadata": {
    "colab": {
      "name": "day4-POO.ipynb",
      "provenance": [],
      "authorship_tag": "ABX9TyPZupzS7oVrCIUA+QWNg5uq",
      "include_colab_link": true
    },
    "kernelspec": {
      "name": "python3",
      "display_name": "Python 3"
    }
  },
  "cells": [
    {
      "cell_type": "markdown",
      "metadata": {
        "id": "view-in-github",
        "colab_type": "text"
      },
      "source": [
        "<a href=\"https://colab.research.google.com/github/mamanipatricia/Pyladies-La-Paz/blob/master/day4_POO.ipynb\" target=\"_parent\"><img src=\"https://colab.research.google.com/assets/colab-badge.svg\" alt=\"Open In Colab\"/></a>"
      ]
    },
    {
      "cell_type": "markdown",
      "metadata": {
        "id": "4OG_lRwvnle0",
        "colab_type": "text"
      },
      "source": [
        "# Programacion Orientada a Objetos - POO"
      ]
    },
    {
      "cell_type": "markdown",
      "metadata": {
        "id": "4MU0Ba-YnuE-",
        "colab_type": "text"
      },
      "source": [
        "### Descripción general de la terminología - POO\n",
        "\n",
        "Es un paradigma de programación que se basa en el concepto de objetos. Los objetos interactúan entre sí y así es como funciona el programa. Los objetos tienen estados y comportamientos.\n",
        "\n",
        "**Que es un paradigma de programación?** \n",
        "\n",
        "Un paradigma de programación es un estilo de desarrollo de programas.\n"
      ]
    },
    {
      "cell_type": "markdown",
      "metadata": {
        "id": "zbMh4bbO5WTW",
        "colab_type": "text"
      },
      "source": [
        "### Ejemplo de POO\n",
        "\n",
        "**¿Que es una clase?**\n",
        "\n",
        "IMAGINEMOS QUE QUEREMOS REPRESENTAR LAS CARACTERISTICAS DE UN AUTOMOVIL Y SUS ACCIONES EN PROGRAMACION, PARA ESO SE NECESITA ABSTRAER LAS CUALIDADES DE UN OBJETO AUTOMOVIL DEL MUNDO REAL.\n",
        "\n",
        "Para representar esta abstraccion en programacion se hace el uso de clases."
      ]
    },
    {
      "cell_type": "code",
      "metadata": {
        "id": "HwOlMIHs5Lsh",
        "colab_type": "code",
        "colab": {
          "base_uri": "https://localhost:8080/",
          "height": 166
        },
        "outputId": "28befc50-fc4a-4036-938f-5a18a7d6a2b5"
      },
      "source": [
        "from IPython.display import Image\n",
        "Image('./car-oop.jpeg')"
      ],
      "execution_count": 6,
      "outputs": [
        {
          "output_type": "execute_result",
          "data": {
            "image/jpeg": "[encoded data removed]",
            "text/plain": [
              "<IPython.core.display.Image object>"
            ]
          },
          "metadata": {
            "tags": []
          },
          "execution_count": 6
        }
      ]
    },
    {
      "cell_type": "markdown",
      "metadata": {
        "id": "tTN3pjOiqPUi",
        "colab_type": "text"
      },
      "source": [
        "\n",
        "\n",
        "Ejemplo:\n",
        "La clase **Automovil**\n",
        "\n",
        "**NOTA:** Se esta describiendo lo que es y puede tener un Automovil en general, no pensar en un Automovil en especifico.\n",
        "\n",
        "----\n",
        "\n",
        "¿Que suelen tener los autos?\n",
        "\n",
        "**Caracteristicas:**\n",
        "\n",
        "- modelo\n",
        "- Color\n",
        "- nro de puertas\n",
        "- numero de ruedas\n",
        "- litros de gasolina\n",
        "- placa \n",
        "- \n",
        "\n",
        "**Funcionalidades**\n",
        "- arrancar\n",
        "- acelerar\n",
        "- frenar\n",
        "\n",
        "Estas Caracteristicas y Funcionalidades de un auto en **clases** se denominan **atributos** y **metodos** respectivamente.\n"
      ]
    },
    {
      "cell_type": "markdown",
      "metadata": {
        "id": "b213KcZj5fbe",
        "colab_type": "text"
      },
      "source": [
        "## Declarando una clase\n",
        "\n",
        "```python\n",
        "# sintaxis de una clase\n",
        "\n",
        "class MyClass:\n",
        "    var = ...  # Alguna variable\n",
        " \n",
        "    def do_smt(self):\n",
        "    # algun metodo\n",
        "  ```"
      ]
    },
    {
      "cell_type": "code",
      "metadata": {
        "id": "7pwqqOBCs0up",
        "colab_type": "code",
        "colab": {
          "base_uri": "https://localhost:8080/",
          "height": 51
        },
        "outputId": "c95111d7-3d29-4b37-ace9-832c9a050292"
      },
      "source": [
        "# clase Estudiante\n",
        "\n",
        "class Estudiante:\n",
        "  nombre = \"Carlos\"\n",
        "  edad = 20\n",
        "\n",
        "# Instancia de clase\n",
        "estudiante = Estudiante()\n",
        "\n",
        "print(estudiante)\n",
        "print(estudiante.nombre, estudiante.edad)"
      ],
      "execution_count": 10,
      "outputs": [
        {
          "output_type": "stream",
          "text": [
            "<__main__.Estudiante object at 0x7fa4d9273160>\n",
            "Carlos 20\n"
          ],
          "name": "stdout"
        }
      ]
    },
    {
      "cell_type": "markdown",
      "metadata": {
        "id": "gSXEIFGd7yr3",
        "colab_type": "text"
      },
      "source": [
        "### Definiendo un constructor"
      ]
    },
    {
      "cell_type": "code",
      "metadata": {
        "id": "pROgaYZg6sEF",
        "colab_type": "code",
        "colab": {
          "base_uri": "https://localhost:8080/",
          "height": 51
        },
        "outputId": "e5b98c9c-5e78-4d42-95f1-25ba2ee4dc9c"
      },
      "source": [
        "class Estudiante:\n",
        "\n",
        "  # constructor\n",
        "  def __init__(self, nombre, edad):\n",
        "    self.nombre = nombre\n",
        "    self.edad = edad\n",
        "  \n",
        "# Instancia de la clase EStudiante\n",
        "estudiante = Estudiante(\"Laura\", 22)\n",
        "\n",
        "print(estudiante)\n",
        "print(estudiante.nombre, estudiante.edad)"
      ],
      "execution_count": 15,
      "outputs": [
        {
          "output_type": "stream",
          "text": [
            "<__main__.Estudiante object at 0x7fa4d91f3ac8>\n",
            "Laura 22\n"
          ],
          "name": "stdout"
        }
      ]
    },
    {
      "cell_type": "markdown",
      "metadata": {
        "id": "hs6sR6op9T4j",
        "colab_type": "text"
      },
      "source": [
        "### Metodos"
      ]
    },
    {
      "cell_type": "code",
      "metadata": {
        "id": "-a_pRrcI9Mvj",
        "colab_type": "code",
        "colab": {
          "base_uri": "https://localhost:8080/",
          "height": 68
        },
        "outputId": "5fc9fa4a-87ae-497b-917c-4ed9274f5719"
      },
      "source": [
        "class Estudiante:\n",
        "\n",
        "  # constructor\n",
        "  def __init__(self, nombre, edad, notas):\n",
        "    self.nombre = nombre\n",
        "    self.edad = edad\n",
        "    self.notas = notas \n",
        "  \n",
        "    # metodo promedio de notas\n",
        "  def promedio(self):\n",
        "    return sum(self.notas) / len(self.notas)\n",
        "\n",
        "notas = [65, 76, 94, 100]\n",
        "\n",
        "# instanciar\n",
        "maria = Estudiante(\"Maria\", 21, notas)\n",
        "print(maria.promedio())\n",
        "\n",
        "# Adicionando notas\n",
        "\n",
        "maria.notas.append(90)\n",
        "print(maria.notas)\n",
        "print(maria.promedio())\n"
      ],
      "execution_count": 23,
      "outputs": [
        {
          "output_type": "stream",
          "text": [
            "83.75\n",
            "[65, 76, 94, 100, 90]\n",
            "85.0\n"
          ],
          "name": "stdout"
        }
      ]
    },
    {
      "cell_type": "markdown",
      "metadata": {
        "id": "Y4lCQy5RDQMa",
        "colab_type": "text"
      },
      "source": [
        "## Class method vs static method\n",
        "\n",
        "El **class method** en Python es un método, que está vinculado a la clase pero no al objeto de esa clase. \n",
        "\n",
        "Los **static methods** también son los mismos, pero hay algunas diferencias básicas. \n",
        "\n",
        "- Para los **class method** se necesita especificar el decorador **@classmethod**\n",
        "- Para el class **methods** se usa el decorador **@staticmethod**.\n",
        "\n",
        "\n",
        "Diferencias entre class method y static method\n",
        "\n",
        "| class method | static method |\n",
        "| -------- | -------- | \n",
        "| El **class method** toma cls (class) como primer argumento | El **static methods** no toma ningún parámetro específico | \n",
        "| El **class method** puede acceder y modificar el estado de la clase | El **static methods** no puede acceder ni modificar el estado de la clase |\n",
        "| El **class method** toma la clase como parámetro para conocer el estado de esa clase | Los **static methods** no saben sobre el estado de la clase |\n",
        "| Aquí se usa el decorador **@classmethod** | Aquí se usa el decorador **@classmethod** |\n"
      ]
    },
    {
      "cell_type": "code",
      "metadata": {
        "id": "GLhd12Ww_r_x",
        "colab_type": "code",
        "colab": {
          "base_uri": "https://localhost:8080/",
          "height": 153
        },
        "outputId": "977005f1-dcbb-4edb-b3e4-cd1a60b30139"
      },
      "source": [
        "# Ejemplo\n",
        "\n",
        "class Persona:\n",
        "\n",
        "  # constructor\n",
        "  def __init__(self, nombre, edad):\n",
        "    self.nombre = nombre\n",
        "    self.edad = edad \n",
        "\n",
        "  # class method para crear un objeto Persona a partir de la fecha de nacimiento\n",
        "  @classmethod\n",
        "  def persona_anio_nacimiento(cls, nombre, anio_nacimiento):\n",
        "    print(cls)\n",
        "    print(cls(nombre, 2020 - anio_nacimiento))\n",
        "    return cls(nombre, 2020 - anio_nacimiento)\n",
        "\n",
        "  # static method, verificar si una persona es adulta o no\n",
        "  @staticmethod\n",
        "  def es_adulto(edad):\n",
        "    return edad > 18\n",
        "\n",
        "persona1 = Persona(\"Maria\", 21)\n",
        "persona2 = Persona.persona_anio_nacimiento(\"Luis\", 1994)\n",
        "\n",
        "print(persona1.nombre)\n",
        "print(persona2.nombre)\n",
        "\n",
        "print(persona1.edad)\n",
        "print(persona2.edad)\n",
        "\n",
        "print(persona1 == persona2)\n",
        "print(persona1.edad == persona2.edad)\n"
      ],
      "execution_count": 35,
      "outputs": [
        {
          "output_type": "stream",
          "text": [
            "<class '__main__.Persona'>\n",
            "<__main__.Persona object at 0x7fa4d916c4a8>\n",
            "Maria\n",
            "Luis\n",
            "21\n",
            "26\n",
            "False\n",
            "False\n"
          ],
          "name": "stdout"
        }
      ]
    },
    {
      "cell_type": "markdown",
      "metadata": {
        "id": "6NanQZCRR0ZS",
        "colab_type": "text"
      },
      "source": [
        "## Herencia\n",
        "\n",
        "Se basa en el uso de una *clase base* para compartir sus atributos y comportamientos con otros clases derivadas.\n",
        "\n",
        "\n"
      ]
    },
    {
      "cell_type": "code",
      "metadata": {
        "id": "OBdyY20QqA6g",
        "colab_type": "code",
        "colab": {
          "base_uri": "https://localhost:8080/",
          "height": 102
        },
        "outputId": "c190d425-8b98-4c4a-8fb3-d3dc0bdc6ebb"
      },
      "source": [
        "class Persona:\n",
        "  \"\"\"clase que representa a una Persona\"\"\"\n",
        "\n",
        "  def __init__(self, nombre, edad):\n",
        "    \"\"\"constructor de la clase Persona\"\"\"\n",
        "    self.nombre = nombre\n",
        "    self.edad = edad \n",
        "  \n",
        "  def obtener_anio_nacimiento(self):\n",
        "    return (2020 - self.edad)\n",
        "\n",
        "\n",
        "class Estudiante(Persona):\n",
        "  \"\"\"clase que representa a un Estudiante\"\"\"\n",
        "\n",
        "  def __init__(self, nombre, edad, matricula, notas):\n",
        "    \"\"\"constructor de la clase Estudiante\"\"\"\n",
        "    \n",
        "    # Invoca al constructor de clase Persona\n",
        "    Persona.__init__(self, nombre, edad)\n",
        "\n",
        "    # Nuevos atributos\n",
        "    self.matricula = matricula\n",
        "    self.notas = notas\n",
        "\n",
        "  def aprobo(self):\n",
        "    return (sum(self.notas) / len(self.notas)) > 51\n",
        "  \n",
        "  \n",
        "# Instancia de Persona\n",
        "persona1 = Persona(\"Luis\", 23)\n",
        "print(\"Objeto Persona1: \", persona1.nombre, persona1.edad)\n",
        "print(\"fecha de nacimiento: \", persona1.obtener_anio_nacimiento())\n",
        "\n",
        "notas = [50, 58, 89]\n",
        "# Instancia de Estudiante\n",
        "estudiante1 = Estudiante(\"Maria\", 25, 12344, notas)\n",
        "print(\"Objeto Estudiante: \", estudiante1.nombre, estudiante1.edad, estudiante1.matricula)\n",
        "print(\"Obj Estudiante - anio nacim: \", estudiante1.obtener_anio_nacimiento())\n",
        "\n",
        "# verificando si el estudiante aprobo o no\n",
        "if estudiante1.aprobo():\n",
        "   print(\"Felicidades \", estudiante1.nombre, \"aprobaste el curso!\")\n",
        "else:\n",
        "   print(\"Echale ganas al sgte anio \", estudiante1.nombre)\n"
      ],
      "execution_count": 49,
      "outputs": [
        {
          "output_type": "stream",
          "text": [
            "Objeto Persona1:  Luis 23\n",
            "fecha de nacimiento:  1997\n",
            "Objeto Estudiante:  Maria 25 12344\n",
            "Obj Estudiante - anio nacim:  1995\n",
            "Felicidades  Maria aprobaste el curso!\n"
          ],
          "name": "stdout"
        }
      ]
    },
    {
      "cell_type": "markdown",
      "metadata": {
        "id": "SfCA_VlvYxJ8",
        "colab_type": "text"
      },
      "source": [
        "## Métodos de strings y números"
      ]
    },
    {
      "cell_type": "code",
      "metadata": {
        "id": "yB_VIANZqBBj",
        "colab_type": "code",
        "colab": {
          "base_uri": "https://localhost:8080/",
          "height": 221
        },
        "outputId": "5f594275-b6fb-4eda-d80b-b46787fdeaf4"
      },
      "source": [
        "print(\"Hola como estas\".startswith(\"Hola\"))\n",
        "\n",
        "print(\"Hola mundo\".endswith(\"mundo\"))\n",
        "\n",
        "print(\"1234\".isnumeric())\n",
        "\n",
        "print(\"abc123\".isdigit())\n",
        "\n",
        "# capitalize \n",
        "print(\"hola mundo\".capitalize())\n",
        "\n",
        "# convertir a lowerCase\n",
        "print(\"hOlA MuNdo!!\".lower())\n",
        "# convertir a upperCase\n",
        "print(\"hola mundo!!\".upper())\n",
        "\n",
        "# strip, remueve espacios\n",
        "s = \" Hola mundo! \"\n",
        "print(s.strip())\n",
        "\n",
        "print(\"*\".join([\"A\", \"b\", \"C\"]))\n",
        "print(\"HOLA COMO ESTAN\".split(\" \"))\n",
        "print(\"HOLA MUNDO!\".replace(\"HOLA\",\"HELLO\"))\n"
      ],
      "execution_count": 60,
      "outputs": [
        {
          "output_type": "stream",
          "text": [
            "True\n",
            "True\n",
            "True\n",
            "True\n",
            "False\n",
            "Hola mundo\n",
            "hola mundo!!\n",
            "HOLA MUNDO!!\n",
            "Hola mundo!\n",
            "A*b*C\n",
            "['HOLA', 'COMO', 'ESTAN']\n",
            "HELLO MUNDO!\n"
          ],
          "name": "stdout"
        }
      ]
    },
    {
      "cell_type": "code",
      "metadata": {
        "id": "pCh-dEC0qBc0",
        "colab_type": "code",
        "colab": {}
      },
      "source": [
        ""
      ],
      "execution_count": null,
      "outputs": []
    }
  ]
}