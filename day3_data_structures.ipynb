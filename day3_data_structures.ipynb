{
  "nbformat": 4,
  "nbformat_minor": 0,
  "metadata": {
    "colab": {
      "name": "day3-data-structures",
      "provenance": [],
      "include_colab_link": true
    },
    "kernelspec": {
      "name": "python3",
      "display_name": "Python 3"
    }
  },
  "cells": [
    {
      "cell_type": "markdown",
      "metadata": {
        "id": "view-in-github",
        "colab_type": "text"
      },
      "source": [
        "<a href=\"https://colab.research.google.com/github/mamanipatricia/Pyladies-La-Paz/blob/master/day3_data_structures.ipynb\" target=\"_parent\"><img src=\"https://colab.research.google.com/assets/colab-badge.svg\" alt=\"Open In Colab\"/></a>"
      ]
    },
    {
      "cell_type": "markdown",
      "metadata": {
        "id": "n5GxMjrfGHN0",
        "colab_type": "text"
      },
      "source": [
        "### ESTRUCTURAS DE DATOS\n",
        "1. Lista \n",
        "2. Tupla\n",
        "3. Set\n",
        "4. Diccionario\n",
        "\n",
        "**Mutable** = puede cambiar su contenido sin cambiar su identidad.\n",
        "\n",
        "**Inmutable** = el valor no se puede actualizar"
      ]
    },
    {
      "cell_type": "markdown",
      "metadata": {
        "id": "qVdwu5Yto8Ik",
        "colab_type": "text"
      },
      "source": [
        "#### Ejemplos en: `int, str, bool, list, tuple, set y diccionarios`   \n"
      ]
    },
    {
      "cell_type": "code",
      "metadata": {
        "id": "yIubq1IKVHvJ",
        "colab_type": "code",
        "colab": {
          "base_uri": "https://localhost:8080/",
          "height": 82
        },
        "outputId": "dfbe873b-81c9-4f63-fd06-627f512f7f3b"
      },
      "source": [
        "# Integers = Inmutables\n",
        "# cambia los ids\n",
        "\n",
        "number = 10\n",
        "print('number: ', number)\n",
        "print('id: ', id(number))\n",
        "\n",
        "number += 10\n",
        "print('number: ', number)\n",
        "print('id: ', id(number))"
      ],
      "execution_count": 2,
      "outputs": [
        {
          "output_type": "stream",
          "text": [
            "number:  10\n",
            "id:  10914784\n",
            "number:  20\n",
            "id:  10915104\n"
          ],
          "name": "stdout"
        }
      ]
    },
    {
      "cell_type": "code",
      "metadata": {
        "id": "GuyzdzcOauwP",
        "colab_type": "code",
        "colab": {
          "base_uri": "https://localhost:8080/",
          "height": 82
        },
        "outputId": "bd49aa40-0721-4568-b072-30511621a360"
      },
      "source": [
        "# Strings = Inmutables\n",
        "# ids diferentes\n",
        "\n",
        "day = 'Domingo'\n",
        "print('day: ', day)\n",
        "print('id: ', id(day))\n",
        "\n",
        "# day[0] = 'd' # error!\n",
        "# print('day: ', day)\n",
        "\n",
        "# para actualizar un string x, hay que crear uno nuevo\n",
        "day = 'domingo'\n",
        "print(day)\n",
        "print('id: ', id(day))\n",
        "\n",
        "# print(day[0])"
      ],
      "execution_count": 3,
      "outputs": [
        {
          "output_type": "stream",
          "text": [
            "day:  Domingo\n",
            "id:  140167466475792\n",
            "domingo\n",
            "id:  140167465655072\n"
          ],
          "name": "stdout"
        }
      ]
    },
    {
      "cell_type": "code",
      "metadata": {
        "id": "edjQeGMcbRHk",
        "colab_type": "code",
        "colab": {
          "base_uri": "https://localhost:8080/",
          "height": 82
        },
        "outputId": "059677e8-8dac-4b20-c8e5-0f13343be601"
      },
      "source": [
        "# bool = inmutables\n",
        "# ids diferentes\n",
        "\n",
        "is_weekend = True\n",
        "print('is_weekend: ', is_weekend)\n",
        "print('id: ', id(is_weekend))\n",
        "\n",
        "is_weekend = not True\n",
        "print('id: ', id(is_weekend))\n",
        "print('is_weekend: ', is_weekend)"
      ],
      "execution_count": 4,
      "outputs": [
        {
          "output_type": "stream",
          "text": [
            "is_weekend:  True\n",
            "id:  10302848\n",
            "id:  10300256\n",
            "is_weekend:  False\n"
          ],
          "name": "stdout"
        }
      ]
    },
    {
      "cell_type": "code",
      "metadata": {
        "id": "b8NNoimzVahZ",
        "colab_type": "code",
        "colab": {
          "base_uri": "https://localhost:8080/",
          "height": 82
        },
        "outputId": "9ce06765-f82b-47f0-af31-70bb4743a526"
      },
      "source": [
        "# listas = mutables\n",
        "# ids iguales\n",
        "countries = ['Bolivia', 'Brasil', 'Panama']\n",
        "print('countries: ', countries)\n",
        "print('id: ', id(countries))\n",
        "\n",
        "# adicionando un elemento\n",
        "countries.append('Chile')\n",
        "\n",
        "countries[1] = 'Argentina'\n",
        "print('countries: ', countries)\n",
        "print('id: ', id(countries))"
      ],
      "execution_count": 5,
      "outputs": [
        {
          "output_type": "stream",
          "text": [
            "countries:  ['Bolivia', 'Brasil', 'Panama']\n",
            "id:  140167704113672\n",
            "countries:  ['Bolivia', 'Argentina', 'Panama', 'Chile']\n",
            "id:  140167704113672\n"
          ],
          "name": "stdout"
        }
      ]
    },
    {
      "cell_type": "code",
      "metadata": {
        "id": "t6bEjF0gttYY",
        "colab_type": "code",
        "colab": {
          "base_uri": "https://localhost:8080/",
          "height": 82
        },
        "outputId": "60be5f5f-5e21-497b-a465-d41c4d8f6541"
      },
      "source": [
        "# tuplas = Inmutables\n",
        "# ids diferentes\n",
        "\n",
        "grades_tuple = (77, 88, 99, 100, 299, 445) \n",
        "print('grades_tuple: ', grades_tuple)\n",
        "print('id: ', id(grades_tuple))\n",
        "\n",
        "# TUPLES - para agregar un elemento siempre adicionar una coma al final\n",
        "grades_tuple = grades_tuple + (999, ) # solo adiciona al final\n",
        "# grades_tuple = (800, )\n",
        "print(\"grades_tuple: \", grades_tuple)\n",
        "print('id: ', id(grades_tuple))"
      ],
      "execution_count": 6,
      "outputs": [
        {
          "output_type": "stream",
          "text": [
            "grades_tuple:  (77, 88, 99, 100, 299, 445)\n",
            "id:  140167465889512\n",
            "grades_tuple:  (77, 88, 99, 100, 299, 445, 999)\n",
            "id:  140167466695384\n"
          ],
          "name": "stdout"
        }
      ]
    },
    {
      "cell_type": "code",
      "metadata": {
        "id": "jLgPUCSm0KKp",
        "colab_type": "code",
        "colab": {
          "base_uri": "https://localhost:8080/",
          "height": 82
        },
        "outputId": "ab62482c-9bca-4236-bf09-9c8f2b0ed46d"
      },
      "source": [
        "# Sets = mutable\n",
        "# ids iguales\n",
        "\n",
        "# SET - unicos y desordenados\n",
        "grades_set = {77, 43, 23, 64, 64} # elimina 64\n",
        "print('grades_set: ', grades_set)\n",
        "print('id: ', id(grades_set))\n",
        "\n",
        "# SET - adiciona el elemento\n",
        "grades_set.add(54)\n",
        "# set_grades[0] = 60 # no acepta adicionar con []! pero con add si!\n",
        "\n",
        "print('grades_set: ', grades_set)\n",
        "print('id: ', id(grades_set))\n"
      ],
      "execution_count": 13,
      "outputs": [
        {
          "output_type": "stream",
          "text": [
            "grades_set:  {64, 43, 77, 23}\n",
            "id:  140167628397480\n",
            "grades_set:  {64, 43, 77, 54, 23}\n",
            "id:  140167628397480\n"
          ],
          "name": "stdout"
        }
      ]
    },
    {
      "cell_type": "code",
      "metadata": {
        "id": "IIhDKmmi19so",
        "colab_type": "code",
        "colab": {
          "base_uri": "https://localhost:8080/",
          "height": 82
        },
        "outputId": "345bbbae-dcd5-4266-8d87-14fcfcf2ff8d"
      },
      "source": [
        "# Diccionarios = mutables\n",
        "# ids iguales\n",
        "\n",
        "student = {'name': 'Jose', 'age': 23, 'grades': [13, 45, 53, 6]}\n",
        "print('student: ', student)\n",
        "print('id: ', id(student))\n",
        "\n",
        "# DICT - adiciona un elemento \n",
        "student['DNI'] = 123456\n",
        "\n",
        "student['name'] = 'Maria' # actualizando un elemento\n",
        "\n",
        "print('student: ', student)\n",
        "print('id: ', id(student))\n"
      ],
      "execution_count": 14,
      "outputs": [
        {
          "output_type": "stream",
          "text": [
            "student:  {'name': 'Jose', 'age': 23, 'grades': [13, 45, 53, 6]}\n",
            "id:  140167465823112\n",
            "student:  {'name': 'Maria', 'age': 23, 'grades': [13, 45, 53, 6], 'DNI': 123456}\n",
            "id:  140167465823112\n"
          ],
          "name": "stdout"
        }
      ]
    },
    {
      "cell_type": "markdown",
      "metadata": {
        "id": "G72w774-7NwE",
        "colab_type": "text"
      },
      "source": [
        "## EJERCICIOS"
      ]
    },
    {
      "cell_type": "markdown",
      "metadata": {
        "id": "oXIQMiQZlCQK",
        "colab_type": "text"
      },
      "source": [
        "## Listas\n",
        "```python\n",
        "lista = ['Elemento 1', 'Elemento 2', ...]\n",
        "```\n",
        "METODOS\n",
        "```python\n",
        "list.append(x)\n",
        "list.extend()\n",
        "list.insert(i, x)\n",
        "list.remove(x)\n",
        "list.pop([i])\n",
        "list.clear()\n",
        "list.count(x)\n",
        "list.sort(key=None, reverse=False)\n",
        "list.reverse()\n",
        "list.copy()\n",
        "```"
      ]
    },
    {
      "cell_type": "code",
      "metadata": {
        "id": "XuOzI6tenuVF",
        "colab_type": "code",
        "colab": {
          "base_uri": "https://localhost:8080/",
          "height": 163
        },
        "outputId": "1e5ec807-bb1f-4d08-9744-ff0cbc762e6a"
      },
      "source": [
        "# declaracion de una lista\n",
        "paises = ['Brasil',\n",
        "          'Perú',\n",
        "          'Chile',\n",
        "          'Colombia',\n",
        "          'Argentina',\n",
        "          'Ecuador',\n",
        "          'Bolivia',\n",
        "          'Venezuela',\n",
        "          'Guayana Francesa',\n",
        "          'Paraguay'\n",
        "          ]\n",
        "                        \n",
        "# Imprimiendo toda la lista\n",
        "print(type(paises))\n",
        "print(paises)\n",
        "\n",
        "print('--- formas de obtener elementos de una lista ---')\n",
        "print(paises[:])\n",
        "print(paises[3])\n",
        "print(paises[0:3])\n",
        "print(paises[:2])\n",
        "print(paises[2:])\n",
        "print(paises[::2])"
      ],
      "execution_count": 16,
      "outputs": [
        {
          "output_type": "stream",
          "text": [
            "<class 'list'>\n",
            "['Brasil', 'Perú', 'Chile', 'Colombia', 'Argentina', 'Ecuador', 'Bolivia', 'Venezuela', 'Guayana Francesa', 'Paraguay']\n",
            "--- formas de obtener elementos de una lista ---\n",
            "['Brasil', 'Perú', 'Chile', 'Colombia', 'Argentina', 'Ecuador', 'Bolivia', 'Venezuela', 'Guayana Francesa', 'Paraguay']\n",
            "Colombia\n",
            "['Brasil', 'Perú', 'Chile']\n",
            "['Brasil', 'Perú']\n",
            "['Chile', 'Colombia', 'Argentina', 'Ecuador', 'Bolivia', 'Venezuela', 'Guayana Francesa', 'Paraguay']\n",
            "['Brasil', 'Chile', 'Argentina', 'Bolivia', 'Guayana Francesa']\n"
          ],
          "name": "stdout"
        }
      ]
    },
    {
      "cell_type": "code",
      "metadata": {
        "id": "nKIjm3aPr-Hg",
        "colab_type": "code",
        "colab": {
          "base_uri": "https://localhost:8080/",
          "height": 232
        },
        "outputId": "67281653-2c33-426b-af8d-f1009cb94971"
      },
      "source": [
        "# Metodos en Listas\n",
        "\n",
        "paises = ['Brasil',\n",
        "          'Perú',\n",
        "          'Chile',\n",
        "          'Colombia',\n",
        "          'Argentina',\n",
        "          'Ecuador',\n",
        "          'Bolivia',\n",
        "          'Venezuela',\n",
        "          'Guayana Francesa',\n",
        "          'Paraguay'\n",
        "          ]\n",
        "\n",
        "# append, adiciona un elemento al final de una lista.\n",
        "paises.append('Costa Rica')\n",
        "print('Paises - append: ', paises)\n",
        "\n",
        "# insert, agrega un elemento el la posicion x de la lista\n",
        "paises.insert(3, 'Bolivia') \n",
        "print('Paises - insert: ', paises)\n",
        "\n",
        "# extend, concatena una nueva lista a la lista previamente creada\n",
        "paises.extend(['Canada', 'EEUU', 'Mexico'])\n",
        "print('Paises - extend: ', paises)\n",
        "\n",
        "# index, saber el indice donde se encuentra el valor\n",
        "paises.index('Bolivia')\n",
        "print('Paises - index: ', paises)\n",
        "\n",
        "# remove, elimina un elemento de la lista:\n",
        "paises.remove('EEUU')\n",
        "print('Paises - remove: ', paises)\n",
        "\n",
        "# pop, remover el ultimo elemento de la lista\n",
        "paises.pop()\n",
        "print('Paises - pop: ', paises)\n",
        "\n",
        "# sort, ordenar una lista\n",
        "paises.sort()\n",
        "print('Paises - sort: ', paises)\n",
        "\n",
        "# reverse, invertir una lista\n",
        "paises.reverse()\n",
        "print('Paises - reverse: ', paises)\n",
        "\n",
        "# Multiplicar la lista X veces\n",
        "print('Paises - * X: ', paises[:] * 3)\n",
        "\n",
        "# count, verifica la cantidad de veces que hay un elemento en una lista\n",
        "print('Paises - count: ', paises.count('Bolivia'))\n",
        "\n",
        "# copy\n",
        "copia_paises = paises.copy()\n",
        "\n",
        "# clear, elimina una lista\n",
        "paises.clear()\n",
        "print('Paises - clear: ', paises)\n",
        "\n",
        "# elementos unicos\n",
        "print('paises - copia: ', set(copia_paises))"
      ],
      "execution_count": 10,
      "outputs": [
        {
          "output_type": "stream",
          "text": [
            "Paises - append:  ['Brasil', 'Perú', 'Chile', 'Colombia', 'Argentina', 'Ecuador', 'Bolivia', 'Venezuela', 'Guayana Francesa', 'Paraguay', 'Costa Rica']\n",
            "Paises - insert:  ['Brasil', 'Perú', 'Chile', 'Bolivia', 'Colombia', 'Argentina', 'Ecuador', 'Bolivia', 'Venezuela', 'Guayana Francesa', 'Paraguay', 'Costa Rica']\n",
            "Paises - extend:  ['Brasil', 'Perú', 'Chile', 'Bolivia', 'Colombia', 'Argentina', 'Ecuador', 'Bolivia', 'Venezuela', 'Guayana Francesa', 'Paraguay', 'Costa Rica', 'Canada', 'EEUU', 'Mexico']\n",
            "Paises - index:  ['Brasil', 'Perú', 'Chile', 'Bolivia', 'Colombia', 'Argentina', 'Ecuador', 'Bolivia', 'Venezuela', 'Guayana Francesa', 'Paraguay', 'Costa Rica', 'Canada', 'EEUU', 'Mexico']\n",
            "Paises - remove:  ['Brasil', 'Perú', 'Chile', 'Bolivia', 'Colombia', 'Argentina', 'Ecuador', 'Bolivia', 'Venezuela', 'Guayana Francesa', 'Paraguay', 'Costa Rica', 'Canada', 'Mexico']\n",
            "Paises - pop:  ['Brasil', 'Perú', 'Chile', 'Bolivia', 'Colombia', 'Argentina', 'Ecuador', 'Bolivia', 'Venezuela', 'Guayana Francesa', 'Paraguay', 'Costa Rica', 'Canada']\n",
            "Paises - sort:  ['Argentina', 'Bolivia', 'Bolivia', 'Brasil', 'Canada', 'Chile', 'Colombia', 'Costa Rica', 'Ecuador', 'Guayana Francesa', 'Paraguay', 'Perú', 'Venezuela']\n",
            "Paises - reverse:  ['Venezuela', 'Perú', 'Paraguay', 'Guayana Francesa', 'Ecuador', 'Costa Rica', 'Colombia', 'Chile', 'Canada', 'Brasil', 'Bolivia', 'Bolivia', 'Argentina']\n",
            "Paises - * X:  ['Venezuela', 'Perú', 'Paraguay', 'Guayana Francesa', 'Ecuador', 'Costa Rica', 'Colombia', 'Chile', 'Canada', 'Brasil', 'Bolivia', 'Bolivia', 'Argentina', 'Venezuela', 'Perú', 'Paraguay', 'Guayana Francesa', 'Ecuador', 'Costa Rica', 'Colombia', 'Chile', 'Canada', 'Brasil', 'Bolivia', 'Bolivia', 'Argentina', 'Venezuela', 'Perú', 'Paraguay', 'Guayana Francesa', 'Ecuador', 'Costa Rica', 'Colombia', 'Chile', 'Canada', 'Brasil', 'Bolivia', 'Bolivia', 'Argentina']\n",
            "Paises - count:  2\n",
            "Paises - clear:  []\n",
            "paises - copia:  {'Perú', 'Colombia', 'Canada', 'Brasil', 'Venezuela', 'Guayana Francesa', 'Chile', 'Argentina', 'Ecuador', 'Paraguay', 'Bolivia', 'Costa Rica'}\n"
          ],
          "name": "stdout"
        }
      ]
    },
    {
      "cell_type": "markdown",
      "metadata": {
        "id": "XHwzo4q2fjAh",
        "colab_type": "text"
      },
      "source": [
        "## Tuplas\n",
        "\n",
        "definicion de una tupla\n",
        "```python\n",
        "lotery_number = ('elemento 1', 'elemento 2', ...)\n",
        "```\n",
        "\n"
      ]
    },
    {
      "cell_type": "code",
      "metadata": {
        "id": "0Wo0SWbIW9Ie",
        "colab_type": "code",
        "colab": {
          "base_uri": "https://localhost:8080/",
          "height": 33
        },
        "outputId": "c8b4240d-eece-4eef-87c0-217ffef9eeb0"
      },
      "source": [
        "# Los valores de una tupla no se pueden cambiar!\n",
        "\n",
        "lotery_numbers = (12, 13, 14, 15, 16, 17, 18, 19, 20)\n",
        "print(type(lotery_numbers))"
      ],
      "execution_count": 37,
      "outputs": [
        {
          "output_type": "stream",
          "text": [
            "<class 'tuple'>\n"
          ],
          "name": "stdout"
        }
      ]
    },
    {
      "cell_type": "code",
      "metadata": {
        "id": "SjaGNTxdE7JH",
        "colab_type": "code",
        "colab": {
          "base_uri": "https://localhost:8080/",
          "height": 228
        },
        "outputId": "09b2ec0e-bb69-4aa1-a339-c9a7aad69f11"
      },
      "source": [
        "# Metodos en Tuplas\n",
        "lotery_numbers = (12, 13, 14, 15, 16, 17, 18, 19, 20)\n",
        "\n",
        "# longitud\n",
        "print(len(lotery_numbers))\n",
        "\n",
        "# Verificar si un elemento esta en una tupla\n",
        "print(5 in lotery_numbers)\n",
        "print(16 in lotery_numbers)\n",
        "\n",
        "# operaciones con tuplas\n",
        "\n",
        "# concatenacion\n",
        "nuevo_lotery_numbers = lotery_numbers + (11, 22, 33)\n",
        "print(lotery_numbers) \n",
        "print(nuevo_lotery_numbers)\n",
        "\n",
        "# Repeticion\n",
        "print(('hola', 'mundo!') * 3)\n",
        "\n",
        "# convertir una lista en una tupla\n",
        "names = ['juan', 'pepe', 'susan', 'rene']\n",
        "names_tuple = tuple(names)\n",
        "print(names_tuple)\n",
        "\n",
        "# Crear una lista a traves de una tupla\n",
        "# 1ra Forma\n",
        "pares = []\n",
        "for i in lotery_numbers:\n",
        "  if i % 2 == 0:\n",
        "    pares.append(i)\n",
        "\n",
        "print(pares)\n",
        "\n",
        "# 2ra Forma - shorthand\n",
        "[i for i in lotery_numbers if i % 2 == 0]\n",
        "\n",
        "# Una tupla que tiene diferentes tipos de datos\n",
        "# cadena = inmutable, lista = mutable\n",
        "# \n",
        "mix_tuple = ('pyladies La Paz', [1, 2, 3])\n",
        "print(mix_tuple)\n",
        "print(type(mix_tuple))\n",
        "\n",
        "for i in mix_tuple[1]:\n",
        "  print(i**2)\n",
        "  "
      ],
      "execution_count": 56,
      "outputs": [
        {
          "output_type": "stream",
          "text": [
            "9\n",
            "False\n",
            "True\n",
            "(12, 13, 14, 15, 16, 17, 18, 19, 20)\n",
            "(12, 13, 14, 15, 16, 17, 18, 19, 20, 11, 22, 33)\n",
            "('hola', 'mundo!', 'hola', 'mundo!', 'hola', 'mundo!')\n",
            "('juan', 'pepe', 'susan', 'rene')\n",
            "[12, 14, 16, 18, 20]\n",
            "('pyladies La Paz', [1, 2, 3])\n",
            "<class 'tuple'>\n",
            "1\n",
            "4\n",
            "9\n"
          ],
          "name": "stdout"
        }
      ]
    },
    {
      "cell_type": "markdown",
      "metadata": {
        "id": "oozktlGMMpsM",
        "colab_type": "text"
      },
      "source": [
        "## Sets\n",
        "\n",
        "definicion de un set\n",
        "```python\n",
        "lotery_number = {'elemento 1', 'elemento 2', ...}\n",
        "```\n"
      ]
    },
    {
      "cell_type": "code",
      "metadata": {
        "id": "rd5oeWL-KQ5H",
        "colab_type": "code",
        "colab": {
          "base_uri": "https://localhost:8080/",
          "height": 33
        },
        "outputId": "566b3190-8d10-4075-8ebd-7d0bf6984633"
      },
      "source": [
        "# Los sets no aceptan datos repetidos y son desordenados\n",
        "\n",
        "dni = {123, 456, 789, 321, 654, 765, 123}\n",
        "print(dni)"
      ],
      "execution_count": 58,
      "outputs": [
        {
          "output_type": "stream",
          "text": [
            "{321, 456, 654, 789, 123, 765}\n"
          ],
          "name": "stdout"
        }
      ]
    },
    {
      "cell_type": "code",
      "metadata": {
        "id": "phyvTNKdAuF1",
        "colab_type": "code",
        "colab": {
          "base_uri": "https://localhost:8080/",
          "height": 131
        },
        "outputId": "18ac4b57-30a6-4e51-d904-61ead7885fd6"
      },
      "source": [
        "# Metodos en Sets\n",
        "dni = {123, 456, 789, 321, 654, 765, 123}\n",
        "\n",
        "# logitud \n",
        "print(len(dni)) \n",
        "\n",
        "# adicionar un elemento\n",
        "dni.add('555')\n",
        "\n",
        "# remove un elemento\n",
        "dni.remove('555')\n",
        "\n",
        "# elimina un elemento si esta presente en un set, caso contrario no hace nada\n",
        "dni.discard('555')\n",
        "\n",
        "# elimina un elemento random del set\n",
        "dni.pop()\n",
        "\n",
        "# elimina todos los elementos del set\n",
        "dni.clear()\n",
        "\n",
        "# copia\n",
        "copia_dni = dni.copy()\n",
        "\n",
        "# elimina un set\n",
        "# del copia_dni\n",
        "# print(copia_dni)\n",
        "\n",
        "print('set: ', dni)\n",
        "\n",
        "# definir un set a traves de una lista\n",
        "lista_dni = [123, 456, 789, 321, 654, 765, 123]\n",
        "\n",
        "set(lista_dni)\n",
        "\n",
        "# iterar un set\n",
        "\n",
        "coordenadas = {(1, 2), (3, 4), (5, 6), (7, 8)}\n",
        "for i in coordenadas:\n",
        "  print(i)\n",
        "  # print(i[0], i[1])\n",
        "\n",
        "# convirtiendo en lista un set\n",
        "[i for i in coordenadas]"
      ],
      "execution_count": 100,
      "outputs": [
        {
          "output_type": "stream",
          "text": [
            "6\n",
            "set:  set()\n",
            "(1, 2)\n",
            "(3, 4)\n",
            "(5, 6)\n",
            "(7, 8)\n"
          ],
          "name": "stdout"
        },
        {
          "output_type": "execute_result",
          "data": {
            "text/plain": [
              "[(1, 2), (3, 4), (5, 6), (7, 8)]"
            ]
          },
          "metadata": {
            "tags": []
          },
          "execution_count": 100
        }
      ]
    },
    {
      "cell_type": "code",
      "metadata": {
        "id": "oY6BMpFUVETI",
        "colab_type": "code",
        "colab": {
          "base_uri": "https://localhost:8080/",
          "height": 418
        },
        "outputId": "cb290364-539f-4a64-b995-cf1f59ca4319"
      },
      "source": [
        "from IPython.display import Image\n",
        "\n",
        "Image('./sets-operations.png')"
      ],
      "execution_count": 101,
      "outputs": [
        {
          "output_type": "execute_result",
          "data": {
            "image/png": "[encoded data removed]",
            "text/plain": [
              "<IPython.core.display.Image object>"
            ]
          },
          "metadata": {
            "tags": []
          },
          "execution_count": 101
        }
      ]
    },
    {
      "cell_type": "code",
      "metadata": {
        "id": "tCoi7HvhAwQp",
        "colab_type": "code",
        "colab": {
          "base_uri": "https://localhost:8080/",
          "height": 98
        },
        "outputId": "77cd2ba4-9427-463d-fdb7-7a19ab16062b"
      },
      "source": [
        "# --------- ADVANCED SET OPERATIONS ---------\n",
        "print(\"----SETS OPERATIONS----\")\n",
        "\n",
        "your_lotery_number = {99, 2, 3, 4, 5}\n",
        "winning_number = {11, 3, 5, 7, 9, 1}\n",
        "\n",
        "print(\"UNION: \", your_lotery_number.union(winning_number))\n",
        "\n",
        "print(\"INTERSECTION: \", your_lotery_number.intersection(winning_number))\n",
        "\n",
        "print(\"DIFFERENCE: \", your_lotery_number.difference(winning_number))\n",
        "\n",
        "print(\"SYMMETRIC DIFFERENCE: \", your_lotery_number.symmetric_difference(winning_number))\n"
      ],
      "execution_count": 109,
      "outputs": [
        {
          "output_type": "stream",
          "text": [
            "----SETS OPERATIONS----\n",
            "UNION:  {1, 2, 3, 99, 4, 5, 7, 9, 11}\n",
            "INTERSECTION:  {3, 5}\n",
            "DIFFERENCE:  {2, 99, 4}\n",
            "SYMMETRIC DIFFERENCE:  {1, 2, 99, 4, 7, 9, 11}\n"
          ],
          "name": "stdout"
        }
      ]
    },
    {
      "cell_type": "markdown",
      "metadata": {
        "id": "qeepQcntAxIS",
        "colab_type": "text"
      },
      "source": [
        "## Diccionarios\n",
        "\n",
        "definicion de un diccionario\n",
        "```python\n",
        "person = {'name': 'Juan', 'name': 'Maria', ...}\n",
        "```\n",
        "/keys unicos/"
      ]
    },
    {
      "cell_type": "code",
      "metadata": {
        "id": "BUtBHzNFYNAw",
        "colab_type": "code",
        "colab": {
          "base_uri": "https://localhost:8080/",
          "height": 66
        },
        "outputId": "c946b61b-d8f1-459c-aaa6-444d8e98bae0"
      },
      "source": [
        "student = { 'name': 'Juan', 'age': 25 }\n",
        "print(student)\n",
        "\n",
        "# Iterando un diccionario\n",
        "for k, v in student.items():\n",
        "  print(k, v)"
      ],
      "execution_count": 113,
      "outputs": [
        {
          "output_type": "stream",
          "text": [
            "{'name': 'Juan', 'age': 25}\n",
            "name Juan\n",
            "age 25\n"
          ],
          "name": "stdout"
        }
      ]
    },
    {
      "cell_type": "code",
      "metadata": {
        "id": "D30UdqaHZQjr",
        "colab_type": "code",
        "colab": {
          "base_uri": "https://localhost:8080/",
          "height": 163
        },
        "outputId": "4fa7b26a-c784-4573-9921-feef9621fa08"
      },
      "source": [
        "# Metodos\n",
        "student = {'name': 'Juan', 'age': 25 }\n",
        "print(student)\n",
        "\n",
        "# Obtener el valor de un key x\n",
        "print(student['name'])\n",
        "print(student.get('name'))\n",
        "\n",
        "# Actualizar un valor x\n",
        "student['age'] = 26\n",
        "print(student)\n",
        "\n",
        "# adicionar un nuevo elemento\n",
        "student['genre'] = 'male' \n",
        "print(student)\n",
        "\n",
        "# obtener los keys de un diccionario\n",
        "print(student.keys())\n",
        "\n",
        "# obtener los values de un diccionario\n",
        "print(student.values())\n",
        "\n",
        "# obtiene los elementos de un diccionario\n",
        "student.items()\n",
        "\n",
        "# remueve elementos con un key especifico\n",
        "student.pop('genre')\n",
        "print(student)\n",
        "\n",
        "# borrar todos los elementos\n",
        "student.clear()\n",
        "print(student)\n"
      ],
      "execution_count": 129,
      "outputs": [
        {
          "output_type": "stream",
          "text": [
            "{'name': 'Juan', 'age': 25}\n",
            "Juan\n",
            "Juan\n",
            "{'name': 'Juan', 'age': 26}\n",
            "{'name': 'Juan', 'age': 26, 'genre': 'male'}\n",
            "dict_keys(['name', 'age', 'genre'])\n",
            "dict_values(['Juan', 26, 'male'])\n",
            "{'name': 'Juan', 'age': 26}\n",
            "{}\n"
          ],
          "name": "stdout"
        }
      ]
    },
    {
      "cell_type": "code",
      "metadata": {
        "id": "OCpReRgQePvC",
        "colab_type": "code",
        "colab": {}
      },
      "source": [
        "# COVID\n",
        "\n",
        "paises = [\n",
        "    {\n",
        "        'pais': 'Bolivia',\n",
        "        'casos_confirmados': 2133,\n",
        "        'casos_recuperados': 562,\n",
        "        'decesos': 10,\n",
        "        'mujeres': 45.0,\n",
        "        'varones': 55.0,\n",
        "        'ciudades': [('La Paz', 123), ('Cochabamba', 56), ('Oruro', 86), ('Santa Cruz', 985), ('Beni', 1000)]\n",
        "    },\n",
        "    {\n",
        "        'pais': 'Perú',\n",
        "        'casos_confirmados': 2833,\n",
        "        'casos_recuperados': 552,\n",
        "        'decesos': 60,\n",
        "        'mujeres': 33.0,\n",
        "        'varones': 77.0,\n",
        "        'ciudades': [('Lima', 231), ('Arequipa', 124), ('Trujillo', 789), ('Chiclayo', 965), ('Iquitos', 54)]\n",
        "    },\n",
        "    {\n",
        "        'pais': 'Brasil',\n",
        "        'casos_confirmados': 3833,\n",
        "        'casos_recuperados': 652,\n",
        "        'decesos': 156,\n",
        "        'mujeres': 50.0,\n",
        "        'varones': 50.0,\n",
        "        'ciudades': [('São Paulo', 963), ('Río de Janeiro', 822), ('Brasilia', 812), ('Salvador de Bahía', 521), ('Belo Horizonte', 921)]\n",
        "    }\n",
        "]\n",
        "\n",
        "\n",
        "# Encontrar el pais con mas casos confirmados\n",
        "\n",
        "# Encontrar la cuidad con mas casos confirmados\n",
        "\n",
        "# Encontrar el pais con menos decesos\n",
        "\n",
        "# Encontrar la cantidad de mujeres infectadas por paises\n",
        "\n",
        "# Generar una lista de tuplas con los datos de: pais, casos_confirmados\n",
        "# Ejemplo: [('Bolivia', 2133), ('Peru', 2833), ...]\n",
        "\n",
        "\n",
        "# NOTA: son datos random\n"
      ],
      "execution_count": null,
      "outputs": []
    },
    {
      "cell_type": "code",
      "metadata": {
        "id": "oEuKixYlA0uF",
        "colab_type": "code",
        "colab": {}
      },
      "source": [
        ""
      ],
      "execution_count": 133,
      "outputs": []
    },
    {
      "cell_type": "code",
      "metadata": {
        "id": "qtUnhqWPW86Z",
        "colab_type": "code",
        "colab": {}
      },
      "source": [
        "\n"
      ],
      "execution_count": null,
      "outputs": []
    },
    {
      "cell_type": "markdown",
      "metadata": {
        "id": "uYmLBnYgW_A8",
        "colab_type": "text"
      },
      "source": [
        "En python todo se interpreta como objeto. Todos los objetos pueden clasificarse como **mutables** o **inmutables**.\n",
        "\n",
        "- **Mutables** se pueden cambiar los valores después de la creación.\n",
        "- **Inmutables** no se pueden cambiar los valores una vez creados.\n",
        "\n",
        "| Estructura de Datos | Mutable/Inmutable | caracteristicas | sintaxis |\n",
        "| -------- | -------- | -------| ------|\n",
        "| Lista     | Mutable | - Colección ordenada de elemento, Indexación, Separación mediante comas | `[]` |\n",
        "| Tupla | Inmutable | - Colección ordenada de elementos, No se puede cambiar los elementos, Indexación, Separación mediante comas| `()` |\n",
        "| Set | Mutable | - Colección desordenado de elementos, No se admite la indexación, No permite duplicados | `{}` | \n",
        "| Diccionario | Mutable | - Cada elemento se representa (clave: par de valores), Indexación, Separación mediante comas | `{key: value}` |\n",
        "\n",
        "\n",
        "\n",
        "\n",
        "\n"
      ]
    },
    {
      "cell_type": "code",
      "metadata": {
        "id": "A8GlGGYogsjr",
        "colab_type": "code",
        "colab": {}
      },
      "source": [
        ""
      ],
      "execution_count": null,
      "outputs": []
    },
    {
      "cell_type": "markdown",
      "metadata": {
        "id": "D_yOb3WgbewG",
        "colab_type": "text"
      },
      "source": [
        "| Clase | Mutable/inmutable |\n",
        "|---|---|\n",
        "| entero - `int` | inmutable |\n",
        "| booleano - `bool` | inmutable |\n",
        "| flotante - `float` | inmutable |\n",
        "| cadena - `str` | inmutable |\n",
        "| tupla - `tuple` | inmutable |\n",
        "| frozenset - `frozenset` | inmutable |\n",
        "| lista - `list` | mutable |\n",
        "| set - `set` | mutable |\n",
        "| diccionarios - `dict` | mutable |\n",
        "\n",
        "Diferencias entre `mutables` e `inmutables`\n",
        "\n",
        "**Inmutables**\n",
        "- Rapidos de acceder\n",
        "- Costosos en cambiar sus elementos - (implica crear una copia)\n",
        "\n",
        "**Mutables**\n",
        "- Excelentes cuando se necesita cambiar el tamaño del objeto\n",
        "- "
      ]
    }
  ]
}