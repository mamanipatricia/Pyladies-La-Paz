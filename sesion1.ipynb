{
  "nbformat": 4,
  "nbformat_minor": 0,
  "metadata": {
    "colab": {
      "name": "sesion1.ipynb",
      "provenance": [],
      "authorship_tag": "ABX9TyNl1UWiQAQpXtCRhURtLtvj",
      "include_colab_link": true
    },
    "kernelspec": {
      "name": "python3",
      "display_name": "Python 3"
    }
  },
  "cells": [
    {
      "cell_type": "markdown",
      "metadata": {
        "id": "view-in-github",
        "colab_type": "text"
      },
      "source": [
        "<a href=\"https://colab.research.google.com/github/mamanipatricia/Pyladies-La-Paz/blob/master/sesion1.ipynb\" target=\"_parent\"><img src=\"https://colab.research.google.com/assets/colab-badge.svg\" alt=\"Open In Colab\"/></a>"
      ]
    },
    {
      "cell_type": "code",
      "metadata": {
        "id": "L9ww-gf4c8Go",
        "colab_type": "code",
        "colab": {}
      },
      "source": [
        "# pyladies la paz"
      ],
      "execution_count": 1,
      "outputs": []
    },
    {
      "cell_type": "code",
      "metadata": {
        "id": "X58W6mJLpYYH",
        "colab_type": "code",
        "colab": {
          "base_uri": "https://localhost:8080/",
          "height": 34
        },
        "outputId": "c2c20dc8-6a08-410a-d4ba-1cec3dceff9e"
      },
      "source": [
        "# un signo igual (=) significa asignación, es decir, almacenar un valor en una variable\n",
        "# mientras que dos signos iguales seguidos (==) significa comparación, es decir, decir si es verdad o falso que dos expresiones son iguales\n",
        "a = 25\n",
        "b = 2020\n",
        "print(a, b)"
      ],
      "execution_count": 2,
      "outputs": [
        {
          "output_type": "stream",
          "text": [
            "25 2020\n"
          ],
          "name": "stdout"
        }
      ]
    },
    {
      "cell_type": "code",
      "metadata": {
        "id": "wGOOJ6gWpcQX",
        "colab_type": "code",
        "colab": {}
      },
      "source": [
        ""
      ],
      "execution_count": null,
      "outputs": []
    }
  ]
}